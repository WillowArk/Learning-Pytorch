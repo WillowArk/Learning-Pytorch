{
 "cells": [
  {
   "cell_type": "code",
   "execution_count": 4,
   "id": "b350f169-a535-4ef3-bfc4-51e09d5206f5",
   "metadata": {
    "tags": []
   },
   "outputs": [
    {
     "name": "stdout",
     "output_type": "stream",
     "text": [
      "False\n"
     ]
    }
   ],
   "source": [
    "###Using https://www.learnpytorch.io/00_pytorch_fundamentals/\n",
    "\n",
    "import torch as pt\n",
    "print(pt.cuda.is_available())"
   ]
  },
  {
   "cell_type": "code",
   "execution_count": 2,
   "id": "7eba3d19-030d-408f-9446-463486290693",
   "metadata": {
    "tags": []
   },
   "outputs": [
    {
     "name": "stdout",
     "output_type": "stream",
     "text": [
      "torch.Size([])\n",
      "torch.Size([2])\n",
      "torch.Size([2, 2])\n"
     ]
    }
   ],
   "source": [
    "scalar = pt.tensor(5)\n",
    "vector = pt.tensor([1,1])\n",
    "matrix = pt.tensor([[1,2],[3,4]])\n",
    "\n",
    "print(scalar.shape)\n",
    "print(vector.shape)\n",
    "print(matrix.shape)"
   ]
  },
  {
   "cell_type": "code",
   "execution_count": 16,
   "id": "4e7c284a-b98c-402a-bef8-bc85414b318e",
   "metadata": {
    "tags": []
   },
   "outputs": [
    {
     "name": "stdout",
     "output_type": "stream",
     "text": [
      "tensor([[[1, 2, 3],\n",
      "         [4, 5, 6],\n",
      "         [7, 8, 9]]])\n",
      "torch.Size([1, 3, 3])\n",
      "tensor([[[ 1,  2,  3],\n",
      "         [ 4,  5,  6]],\n",
      "\n",
      "        [[ 7,  8,  9],\n",
      "         [10, 11, 12]]])\n",
      "torch.Size([2, 2, 3])\n"
     ]
    }
   ],
   "source": [
    "tensor1 = pt.tensor([[[1,2,3],[4,5,6,],[7,8,9]]])\n",
    "print(tensor1)\n",
    "print(tensor1.shape)\n",
    "tensor2 = pt.tensor([[[1,2,3],[4,5,6]],[[7,8,9],[10,11,12]]])\n",
    "print(tensor2)\n",
    "print(tensor2.shape)"
   ]
  },
  {
   "cell_type": "code",
   "execution_count": 18,
   "id": "359bdeee-ca18-4abf-ad85-8a15bca47e42",
   "metadata": {
    "tags": []
   },
   "outputs": [
    {
     "name": "stdout",
     "output_type": "stream",
     "text": [
      "tensor([[[0.1964, 0.1007, 0.2338, 0.5142],\n",
      "         [0.0039, 0.3239, 0.2971, 0.0652],\n",
      "         [0.2524, 0.4011, 0.8174, 0.1196]],\n",
      "\n",
      "        [[0.0789, 0.4534, 0.2938, 0.2853],\n",
      "         [0.6946, 0.7932, 0.0736, 0.6348],\n",
      "         [0.2936, 0.5701, 0.3810, 0.2310]]])\n",
      "torch.Size([2, 3, 4])\n"
     ]
    }
   ],
   "source": [
    "randTen = pt.rand(2,3,4)\n",
    "print(randTen)\n",
    "print(randTen.shape)"
   ]
  },
  {
   "cell_type": "raw",
   "id": "c18a921f-5370-4e7f-9c1f-510ba20cab22",
   "metadata": {
    "tags": []
   },
   "source": [
    "randImgTen = pt.rand(64,64,3)\n",
    "randImgTen"
   ]
  },
  {
   "cell_type": "code",
   "execution_count": 23,
   "id": "66c540f8-1a82-4104-884b-7dbdf1469b9c",
   "metadata": {
    "tags": []
   },
   "outputs": [
    {
     "data": {
      "text/plain": [
       "tensor([[[1., 1., 1., 1.],\n",
       "         [1., 1., 1., 1.],\n",
       "         [1., 1., 1., 1.]],\n",
       "\n",
       "        [[1., 1., 1., 1.],\n",
       "         [1., 1., 1., 1.],\n",
       "         [1., 1., 1., 1.]]])"
      ]
     },
     "execution_count": 23,
     "metadata": {},
     "output_type": "execute_result"
    }
   ],
   "source": [
    "zeros = pt.zeros(2,3,4)\n",
    "zeros\n",
    "ones = pt.ones(2,3,4)\n",
    "ones"
   ]
  },
  {
   "cell_type": "code",
   "execution_count": 27,
   "id": "5d994274-cc73-4955-a2c2-c475f472d5c5",
   "metadata": {
    "tags": []
   },
   "outputs": [
    {
     "data": {
      "text/plain": [
       "tensor([ 2,  4,  6,  8, 10])"
      ]
     },
     "execution_count": 27,
     "metadata": {},
     "output_type": "execute_result"
    }
   ],
   "source": [
    "#pt.arange([start,end), step)\n",
    "one_to_ten = pt.arange(1,11)\n",
    "evens_to_ten = pt.arange(2,11,2)\n",
    "evens_to_ten"
   ]
  },
  {
   "cell_type": "code",
   "execution_count": 28,
   "id": "393660a7-687b-4491-b741-0b192caad418",
   "metadata": {
    "tags": []
   },
   "outputs": [
    {
     "data": {
      "text/plain": [
       "tensor([[[0., 0., 0., 0.],\n",
       "         [0., 0., 0., 0.],\n",
       "         [0., 0., 0., 0.]],\n",
       "\n",
       "        [[0., 0., 0., 0.],\n",
       "         [0., 0., 0., 0.],\n",
       "         [0., 0., 0., 0.]]])"
      ]
     },
     "execution_count": 28,
     "metadata": {},
     "output_type": "execute_result"
    }
   ],
   "source": [
    "zeros_randTen = pt.zeros_like(randTen)\n",
    "zeros_randTen"
   ]
  },
  {
   "cell_type": "code",
   "execution_count": 37,
   "id": "d75a6502-94bd-4b78-a4e6-60b7986071d8",
   "metadata": {
    "tags": []
   },
   "outputs": [],
   "source": [
    "#Datatypes and Devices\n",
    "float32_Ten = pt.tensor([1.1,2.2,3.3,4.4], dtype=pt.float32, device=\"cpu\")\n",
    "#float16_Ten = pt.tensor([1.1,2.2,3.3,4.4], dtype=pt.float16, device=\"cuda\") #CUDA NOT ENABLED\n",
    "int_Ten = pt.tensor([1.9,2.2,3.3,4.4], dtype=pt.int, device=\"cpu\") #Rounds down\n",
    "float16_Ten2 = float32_Ten.type(torch.float16) #converts types\n",
    "#someTen = float16_Ten * float16_Ten2 #ERROR DUE TO DIFFERENT DEVICES"
   ]
  },
  {
   "cell_type": "code",
   "execution_count": 55,
   "id": "1c41dc7c-d439-419c-a47e-efdf17bfe430",
   "metadata": {
    "tags": []
   },
   "outputs": [
    {
     "name": "stdout",
     "output_type": "stream",
     "text": [
      "tensor([[1, 4],\n",
      "        [2, 5],\n",
      "        [3, 6]])\n",
      "tensor([[14, 32],\n",
      "        [32, 77]])\n"
     ]
    }
   ],
   "source": [
    "tensor = pt.tensor([[1,2,3],[4,5,6]])\n",
    "#print(tensor)\n",
    "tensor2 = tensor+5\n",
    "#print(tensor2)\n",
    "tensor3 = tensor*10\n",
    "#print(tensor3)\n",
    "tensor4 = tensor * tensor\n",
    "#print(tensor4)\n",
    "tensor5 = pt.transpose(tensor,0,1)\n",
    "print(tensor5)\n",
    "tensor6 = pt.matmul(tensor, tensor5)\n",
    "print(tensor6)"
   ]
  },
  {
   "cell_type": "code",
   "execution_count": 21,
   "id": "5528a889-194a-4237-8a36-6b9765658aa2",
   "metadata": {
    "tags": []
   },
   "outputs": [
    {
     "name": "stdout",
     "output_type": "stream",
     "text": [
      "tensor(0)\n",
      "tensor(420)\n",
      "tensor(60)\n",
      "tensor(60.)\n",
      "tensor(4)\n",
      "tensor(5)\n"
     ]
    }
   ],
   "source": [
    "tensor = pt.arange(0,121,20)\n",
    "print(pt.min(tensor))\n",
    "print(pt.sum(tensor))\n",
    "print(pt.median(tensor))\n",
    "print(pt.mean(tensor.type(pt.float32)))\n",
    "\n",
    "tensor2 = pt.tensor([5,4,3,2,1,10,9,8,7,6])\n",
    "print(tensor2.argmin()) #Returns index positions\n",
    "print(tensor2.argmax())"
   ]
  },
  {
   "cell_type": "code",
   "execution_count": 18,
   "id": "a405f1dc-a1dd-4ee5-aa0b-ca2c78f33b2c",
   "metadata": {
    "tags": []
   },
   "outputs": [
    {
     "name": "stdout",
     "output_type": "stream",
     "text": [
      "torch.Size([2, 1, 5])\n",
      "torch.Size([5, 2, 1])\n"
     ]
    }
   ],
   "source": [
    "#Reshaping dimensions (Changes Memeory)\n",
    "tensor = pt.tensor([0,1,2,3,4,5,6,7,8,9])\n",
    "tensor.reshape(1,1,10)\n",
    "tensor.reshape(2,5)\n",
    "tensor.reshape(2,1,5)\n",
    "\n",
    "#Changes View (Same Memory)\n",
    "tensor.view(1,1,10)\n",
    "tensor.view(2,5)\n",
    "tensor.view(2,1,5)\n",
    "\n",
    "#Stacking\n",
    "tensor_stack = pt.stack([tensor,tensor,tensor],1)\n",
    "tensor_stack.shape\n",
    "tensor_stack\n",
    "\n",
    "#Squeezing\n",
    "tensor2 = tensor.reshape(1,10,1)\n",
    "tensor2 = tensor2.squeeze()\n",
    "tensor2.shape\n",
    "\n",
    "#Permute\n",
    "tensor3 = tensor.reshape(2,1,5)\n",
    "print(tensor3.shape)\n",
    "tensor3 = tensor3.permute(2,0,1)\n",
    "print(tensor3.shape)\n"
   ]
  },
  {
   "cell_type": "code",
   "execution_count": 30,
   "id": "a056c832-9816-4b77-902b-2c97e781df38",
   "metadata": {
    "tags": []
   },
   "outputs": [
    {
     "name": "stdout",
     "output_type": "stream",
     "text": [
      "tensor([[1, 2, 3],\n",
      "        [4, 5, 6],\n",
      "        [7, 8, 9]])\n",
      "tensor([1, 2, 3])\n",
      "tensor(1)\n",
      "tensor(1)\n",
      "tensor([1, 2, 3])\n",
      "tensor([2, 5, 8])\n"
     ]
    }
   ],
   "source": [
    "#Indexing\n",
    "tensor = pt.arange(1,10).reshape(1,3,3)\n",
    "print(tensor[0])\n",
    "print(tensor[0][0])\n",
    "print(tensor[0][0][0])\n",
    "print(tensor[0,0,0])\n",
    "print(tensor[0,0])\n",
    "print(tensor[0,:,1])"
   ]
  },
  {
   "cell_type": "code",
   "execution_count": 40,
   "id": "0dde4da6-b189-4ecd-bc13-cb643be87dee",
   "metadata": {
    "tags": []
   },
   "outputs": [],
   "source": [
    "#Excercises\n",
    "#1. Create a random Tensor with size (7,7)\n",
    "tensor = pt.rand(7,7)\n",
    "\n",
    "#2.Perform a matrix multiplication on the tensor from 1 with another random tensor with shape (1, 7) (hint: you may have to transpose the second tensor).\n",
    "tensor2 = pt.rand(1,7)\n",
    "pt.matmul(tensor, tensor2.transpose(0,1))\n",
    "\n",
    "#3. Set the random seed to 0 and do 1 & 2 over again.\n",
    "pt.manual_seed(0)\n",
    "\n",
    "#4. Speaking of random seeds, we saw how to set it with torch.manual_seed() but is there a GPU equivalent? (hint: you'll need to look into the documentation for torch.cuda for this one)\n",
    "pt.cuda.manual_seed(0)\n",
    "\n",
    "#5. Create two random tensors of shape (2, 3) and send them both to the GPU (you'll need access to a GPU for this). Set torch.manual_seed(1234) when creating the tensors (this doesn't have to be the GPU random seed).\n",
    "#The output should be something like:"
   ]
  }
 ],
 "metadata": {
  "kernelspec": {
   "display_name": "Python 3 (ipykernel)",
   "language": "python",
   "name": "python3"
  },
  "language_info": {
   "codemirror_mode": {
    "name": "ipython",
    "version": 3
   },
   "file_extension": ".py",
   "mimetype": "text/x-python",
   "name": "python",
   "nbconvert_exporter": "python",
   "pygments_lexer": "ipython3",
   "version": "3.11.5"
  }
 },
 "nbformat": 4,
 "nbformat_minor": 5
}
